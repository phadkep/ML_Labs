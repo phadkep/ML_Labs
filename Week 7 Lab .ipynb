{
 "cells": [
  {
   "cell_type": "markdown",
   "metadata": {},
   "source": [
    "### LAB Item 1\n",
    "\n",
    "1. Run weather regression from 1/1/2012 --> 8/1/2019 to Natural Gas Consumption.  Use the data posted in week 7 folder.\n",
    "\n",
    "    https://www.eia.gov/dnav/ng/ng_cons_sum_dcu_nus_m.htm   (original source but use data in class folder)\n",
    "    \n",
    "2. Using SkLearn, regress to sum of: U.S. Natural Gas Residential Consumption (MMcf) + Natural Gas Deliveries to Commercial Consumers (Including Vehicle Fuel through 1996) in the U.S. (MMcf)\n",
    "\n",
    "3. What is R^2 ?\n",
    "\n",
    "4. Estimate October 2019!  What was the residual between your estimate and the actual."
   ]
  },
  {
   "cell_type": "code",
   "execution_count": 1,
   "metadata": {},
   "outputs": [],
   "source": [
    "import numpy\n",
    "import pandas as pd\n",
    "import sklearn\n",
    "from matplotlib import pyplot as plt\n",
    "%matplotlib inline\n",
    "\n",
    "import plotly\n",
    "#import chart_studio.plotly as py\n",
    "import cufflinks\n",
    "\n",
    "import plotly.graph_objects as go\n",
    "#from chart_studio.plotly import plot, iplot"
   ]
  },
  {
   "cell_type": "code",
   "execution_count": 2,
   "metadata": {},
   "outputs": [],
   "source": [
    "temp_df = pd.read_excel('~/Documents/Machine_Learning/LAB/Week7/weather-natgas.xlsx', sheet_name='Weather')\n",
    "\n",
    "ng_df = pd.read_excel('~/Documents/Machine_Learning/LAB/Week7/weather-natgas.xlsx', sheet_name='NatGas')"
   ]
  },
  {
   "cell_type": "code",
   "execution_count": 3,
   "metadata": {},
   "outputs": [
    {
     "data": {
      "text/html": [
       "<div>\n",
       "<style scoped>\n",
       "    .dataframe tbody tr th:only-of-type {\n",
       "        vertical-align: middle;\n",
       "    }\n",
       "\n",
       "    .dataframe tbody tr th {\n",
       "        vertical-align: top;\n",
       "    }\n",
       "\n",
       "    .dataframe thead th {\n",
       "        text-align: right;\n",
       "    }\n",
       "</style>\n",
       "<table border=\"1\" class=\"dataframe\">\n",
       "  <thead>\n",
       "    <tr style=\"text-align: right;\">\n",
       "      <th></th>\n",
       "      <th>themonth</th>\n",
       "      <th>hdd</th>\n",
       "      <th>cdd</th>\n",
       "      <th>temp_natl</th>\n",
       "    </tr>\n",
       "  </thead>\n",
       "  <tbody>\n",
       "    <tr>\n",
       "      <th>30</th>\n",
       "      <td>2019-07-01</td>\n",
       "      <td>0.041155</td>\n",
       "      <td>12.464210</td>\n",
       "      <td>77.423055</td>\n",
       "    </tr>\n",
       "    <tr>\n",
       "      <th>31</th>\n",
       "      <td>2019-08-01</td>\n",
       "      <td>0.081061</td>\n",
       "      <td>11.162419</td>\n",
       "      <td>76.081358</td>\n",
       "    </tr>\n",
       "    <tr>\n",
       "      <th>32</th>\n",
       "      <td>2019-09-01</td>\n",
       "      <td>0.916233</td>\n",
       "      <td>8.597273</td>\n",
       "      <td>72.681040</td>\n",
       "    </tr>\n",
       "    <tr>\n",
       "      <th>33</th>\n",
       "      <td>2019-10-01</td>\n",
       "      <td>7.809861</td>\n",
       "      <td>2.738358</td>\n",
       "      <td>59.928497</td>\n",
       "    </tr>\n",
       "    <tr>\n",
       "      <th>34</th>\n",
       "      <td>2019-11-01</td>\n",
       "      <td>18.480750</td>\n",
       "      <td>0.573533</td>\n",
       "      <td>47.092783</td>\n",
       "    </tr>\n",
       "  </tbody>\n",
       "</table>\n",
       "</div>"
      ],
      "text/plain": [
       "     themonth        hdd        cdd  temp_natl\n",
       "30 2019-07-01   0.041155  12.464210  77.423055\n",
       "31 2019-08-01   0.081061  11.162419  76.081358\n",
       "32 2019-09-01   0.916233   8.597273  72.681040\n",
       "33 2019-10-01   7.809861   2.738358  59.928497\n",
       "34 2019-11-01  18.480750   0.573533  47.092783"
      ]
     },
     "execution_count": 3,
     "metadata": {},
     "output_type": "execute_result"
    }
   ],
   "source": [
    "temp_df.tail()"
   ]
  },
  {
   "cell_type": "code",
   "execution_count": 4,
   "metadata": {},
   "outputs": [
    {
     "data": {
      "text/html": [
       "<div>\n",
       "<style scoped>\n",
       "    .dataframe tbody tr th:only-of-type {\n",
       "        vertical-align: middle;\n",
       "    }\n",
       "\n",
       "    .dataframe tbody tr th {\n",
       "        vertical-align: top;\n",
       "    }\n",
       "\n",
       "    .dataframe thead th {\n",
       "        text-align: right;\n",
       "    }\n",
       "</style>\n",
       "<table border=\"1\" class=\"dataframe\">\n",
       "  <thead>\n",
       "    <tr style=\"text-align: right;\">\n",
       "      <th></th>\n",
       "      <th>Date</th>\n",
       "      <th>U.S. Natural Gas Total Consumption (MMcf)</th>\n",
       "      <th>U.S. Natural Gas Lease and Plant Fuel Consumption (MMcf)</th>\n",
       "      <th>U.S. Natural Gas Pipeline &amp; Distribution Use (MMcf)</th>\n",
       "      <th>Natural Gas Delivered to Consumers in the U.S. (MMcf)</th>\n",
       "      <th>U.S. Natural Gas Residential Consumption (MMcf)</th>\n",
       "      <th>Natural Gas Deliveries to Commercial Consumers (Including Vehicle Fuel through 1996) in the U.S. (MMcf)</th>\n",
       "      <th>U.S. Natural Gas Industrial Consumption (MMcf)</th>\n",
       "      <th>U.S. Natural Gas Vehicle Fuel Consumption (MMcf)</th>\n",
       "      <th>U.S. Natural Gas Deliveries to Electric Power Consumers (MMcf)</th>\n",
       "    </tr>\n",
       "  </thead>\n",
       "  <tbody>\n",
       "    <tr>\n",
       "      <th>27</th>\n",
       "      <td>2019-04-01</td>\n",
       "      <td>2201582</td>\n",
       "      <td>149778</td>\n",
       "      <td>63166</td>\n",
       "      <td>1988639</td>\n",
       "      <td>327642</td>\n",
       "      <td>248512</td>\n",
       "      <td>672132</td>\n",
       "      <td>4489</td>\n",
       "      <td>735863</td>\n",
       "    </tr>\n",
       "    <tr>\n",
       "      <th>28</th>\n",
       "      <td>2019-05-01</td>\n",
       "      <td>2121523</td>\n",
       "      <td>154091</td>\n",
       "      <td>60869</td>\n",
       "      <td>1906564</td>\n",
       "      <td>211616</td>\n",
       "      <td>185746</td>\n",
       "      <td>673190</td>\n",
       "      <td>4639</td>\n",
       "      <td>831373</td>\n",
       "    </tr>\n",
       "    <tr>\n",
       "      <th>29</th>\n",
       "      <td>2019-06-01</td>\n",
       "      <td>2115736</td>\n",
       "      <td>151035</td>\n",
       "      <td>60703</td>\n",
       "      <td>1903999</td>\n",
       "      <td>128761</td>\n",
       "      <td>144783</td>\n",
       "      <td>632673</td>\n",
       "      <td>4489</td>\n",
       "      <td>993293</td>\n",
       "    </tr>\n",
       "    <tr>\n",
       "      <th>30</th>\n",
       "      <td>2019-07-01</td>\n",
       "      <td>2408122</td>\n",
       "      <td>156039</td>\n",
       "      <td>69091</td>\n",
       "      <td>2182991</td>\n",
       "      <td>113482</td>\n",
       "      <td>143987</td>\n",
       "      <td>647345</td>\n",
       "      <td>4639</td>\n",
       "      <td>1273538</td>\n",
       "    </tr>\n",
       "    <tr>\n",
       "      <th>31</th>\n",
       "      <td>2019-08-01</td>\n",
       "      <td>2430780</td>\n",
       "      <td>159871</td>\n",
       "      <td>69741</td>\n",
       "      <td>2201168</td>\n",
       "      <td>101598</td>\n",
       "      <td>142116</td>\n",
       "      <td>664326</td>\n",
       "      <td>4639</td>\n",
       "      <td>1288489</td>\n",
       "    </tr>\n",
       "  </tbody>\n",
       "</table>\n",
       "</div>"
      ],
      "text/plain": [
       "         Date  U.S. Natural Gas Total Consumption (MMcf)  \\\n",
       "27 2019-04-01                                    2201582   \n",
       "28 2019-05-01                                    2121523   \n",
       "29 2019-06-01                                    2115736   \n",
       "30 2019-07-01                                    2408122   \n",
       "31 2019-08-01                                    2430780   \n",
       "\n",
       "    U.S. Natural Gas Lease and Plant Fuel Consumption (MMcf)  \\\n",
       "27                                             149778          \n",
       "28                                             154091          \n",
       "29                                             151035          \n",
       "30                                             156039          \n",
       "31                                             159871          \n",
       "\n",
       "    U.S. Natural Gas Pipeline & Distribution Use (MMcf)  \\\n",
       "27                                              63166     \n",
       "28                                              60869     \n",
       "29                                              60703     \n",
       "30                                              69091     \n",
       "31                                              69741     \n",
       "\n",
       "    Natural Gas Delivered to Consumers in the U.S. (MMcf)  \\\n",
       "27                                            1988639       \n",
       "28                                            1906564       \n",
       "29                                            1903999       \n",
       "30                                            2182991       \n",
       "31                                            2201168       \n",
       "\n",
       "    U.S. Natural Gas Residential Consumption (MMcf)  \\\n",
       "27                                           327642   \n",
       "28                                           211616   \n",
       "29                                           128761   \n",
       "30                                           113482   \n",
       "31                                           101598   \n",
       "\n",
       "    Natural Gas Deliveries to Commercial Consumers (Including Vehicle Fuel through 1996) in the U.S. (MMcf)  \\\n",
       "27                                             248512                                                         \n",
       "28                                             185746                                                         \n",
       "29                                             144783                                                         \n",
       "30                                             143987                                                         \n",
       "31                                             142116                                                         \n",
       "\n",
       "    U.S. Natural Gas Industrial Consumption (MMcf)  \\\n",
       "27                                          672132   \n",
       "28                                          673190   \n",
       "29                                          632673   \n",
       "30                                          647345   \n",
       "31                                          664326   \n",
       "\n",
       "    U.S. Natural Gas Vehicle Fuel Consumption (MMcf)  \\\n",
       "27                                              4489   \n",
       "28                                              4639   \n",
       "29                                              4489   \n",
       "30                                              4639   \n",
       "31                                              4639   \n",
       "\n",
       "    U.S. Natural Gas Deliveries to Electric Power Consumers (MMcf)  \n",
       "27                                             735863               \n",
       "28                                             831373               \n",
       "29                                             993293               \n",
       "30                                            1273538               \n",
       "31                                            1288489               "
      ]
     },
     "execution_count": 4,
     "metadata": {},
     "output_type": "execute_result"
    }
   ],
   "source": [
    "ng_df.tail()"
   ]
  },
  {
   "cell_type": "code",
   "execution_count": 5,
   "metadata": {},
   "outputs": [],
   "source": [
    "temp_df['themonth'] = pd.to_datetime(temp_df['themonth'])\n",
    "ng_df['Date'] = pd.to_datetime(ng_df['Date'])"
   ]
  },
  {
   "cell_type": "code",
   "execution_count": 6,
   "metadata": {},
   "outputs": [
    {
     "data": {
      "text/html": [
       "<div>\n",
       "<style scoped>\n",
       "    .dataframe tbody tr th:only-of-type {\n",
       "        vertical-align: middle;\n",
       "    }\n",
       "\n",
       "    .dataframe tbody tr th {\n",
       "        vertical-align: top;\n",
       "    }\n",
       "\n",
       "    .dataframe thead th {\n",
       "        text-align: right;\n",
       "    }\n",
       "</style>\n",
       "<table border=\"1\" class=\"dataframe\">\n",
       "  <thead>\n",
       "    <tr style=\"text-align: right;\">\n",
       "      <th></th>\n",
       "      <th>themonth</th>\n",
       "      <th>hdd</th>\n",
       "      <th>cdd</th>\n",
       "      <th>temp_natl</th>\n",
       "      <th>Date</th>\n",
       "      <th>U.S. Natural Gas Total Consumption (MMcf)</th>\n",
       "      <th>U.S. Natural Gas Lease and Plant Fuel Consumption (MMcf)</th>\n",
       "      <th>U.S. Natural Gas Pipeline &amp; Distribution Use (MMcf)</th>\n",
       "      <th>Natural Gas Delivered to Consumers in the U.S. (MMcf)</th>\n",
       "      <th>U.S. Natural Gas Residential Consumption (MMcf)</th>\n",
       "      <th>Natural Gas Deliveries to Commercial Consumers (Including Vehicle Fuel through 1996) in the U.S. (MMcf)</th>\n",
       "      <th>U.S. Natural Gas Industrial Consumption (MMcf)</th>\n",
       "      <th>U.S. Natural Gas Vehicle Fuel Consumption (MMcf)</th>\n",
       "      <th>U.S. Natural Gas Deliveries to Electric Power Consumers (MMcf)</th>\n",
       "      <th>ones</th>\n",
       "    </tr>\n",
       "  </thead>\n",
       "  <tbody>\n",
       "    <tr>\n",
       "      <th>27</th>\n",
       "      <td>2019-04-01</td>\n",
       "      <td>8.673257</td>\n",
       "      <td>1.523303</td>\n",
       "      <td>57.850047</td>\n",
       "      <td>2019-04-01</td>\n",
       "      <td>2201582</td>\n",
       "      <td>149778</td>\n",
       "      <td>63166</td>\n",
       "      <td>1988639</td>\n",
       "      <td>327642</td>\n",
       "      <td>248512</td>\n",
       "      <td>672132</td>\n",
       "      <td>4489</td>\n",
       "      <td>735863</td>\n",
       "      <td>1</td>\n",
       "    </tr>\n",
       "    <tr>\n",
       "      <th>28</th>\n",
       "      <td>2019-05-01</td>\n",
       "      <td>4.221135</td>\n",
       "      <td>4.262452</td>\n",
       "      <td>65.041316</td>\n",
       "      <td>2019-05-01</td>\n",
       "      <td>2121523</td>\n",
       "      <td>154091</td>\n",
       "      <td>60869</td>\n",
       "      <td>1906564</td>\n",
       "      <td>211616</td>\n",
       "      <td>185746</td>\n",
       "      <td>673190</td>\n",
       "      <td>4639</td>\n",
       "      <td>831373</td>\n",
       "      <td>1</td>\n",
       "    </tr>\n",
       "    <tr>\n",
       "      <th>29</th>\n",
       "      <td>2019-06-01</td>\n",
       "      <td>0.668620</td>\n",
       "      <td>7.894777</td>\n",
       "      <td>72.226157</td>\n",
       "      <td>2019-06-01</td>\n",
       "      <td>2115736</td>\n",
       "      <td>151035</td>\n",
       "      <td>60703</td>\n",
       "      <td>1903999</td>\n",
       "      <td>128761</td>\n",
       "      <td>144783</td>\n",
       "      <td>632673</td>\n",
       "      <td>4489</td>\n",
       "      <td>993293</td>\n",
       "      <td>1</td>\n",
       "    </tr>\n",
       "    <tr>\n",
       "      <th>30</th>\n",
       "      <td>2019-07-01</td>\n",
       "      <td>0.041155</td>\n",
       "      <td>12.464210</td>\n",
       "      <td>77.423055</td>\n",
       "      <td>2019-07-01</td>\n",
       "      <td>2408122</td>\n",
       "      <td>156039</td>\n",
       "      <td>69091</td>\n",
       "      <td>2182991</td>\n",
       "      <td>113482</td>\n",
       "      <td>143987</td>\n",
       "      <td>647345</td>\n",
       "      <td>4639</td>\n",
       "      <td>1273538</td>\n",
       "      <td>1</td>\n",
       "    </tr>\n",
       "    <tr>\n",
       "      <th>31</th>\n",
       "      <td>2019-08-01</td>\n",
       "      <td>0.081061</td>\n",
       "      <td>11.162419</td>\n",
       "      <td>76.081358</td>\n",
       "      <td>2019-08-01</td>\n",
       "      <td>2430780</td>\n",
       "      <td>159871</td>\n",
       "      <td>69741</td>\n",
       "      <td>2201168</td>\n",
       "      <td>101598</td>\n",
       "      <td>142116</td>\n",
       "      <td>664326</td>\n",
       "      <td>4639</td>\n",
       "      <td>1288489</td>\n",
       "      <td>1</td>\n",
       "    </tr>\n",
       "  </tbody>\n",
       "</table>\n",
       "</div>"
      ],
      "text/plain": [
       "     themonth       hdd        cdd  temp_natl       Date  \\\n",
       "27 2019-04-01  8.673257   1.523303  57.850047 2019-04-01   \n",
       "28 2019-05-01  4.221135   4.262452  65.041316 2019-05-01   \n",
       "29 2019-06-01  0.668620   7.894777  72.226157 2019-06-01   \n",
       "30 2019-07-01  0.041155  12.464210  77.423055 2019-07-01   \n",
       "31 2019-08-01  0.081061  11.162419  76.081358 2019-08-01   \n",
       "\n",
       "    U.S. Natural Gas Total Consumption (MMcf)  \\\n",
       "27                                    2201582   \n",
       "28                                    2121523   \n",
       "29                                    2115736   \n",
       "30                                    2408122   \n",
       "31                                    2430780   \n",
       "\n",
       "    U.S. Natural Gas Lease and Plant Fuel Consumption (MMcf)  \\\n",
       "27                                             149778          \n",
       "28                                             154091          \n",
       "29                                             151035          \n",
       "30                                             156039          \n",
       "31                                             159871          \n",
       "\n",
       "    U.S. Natural Gas Pipeline & Distribution Use (MMcf)  \\\n",
       "27                                              63166     \n",
       "28                                              60869     \n",
       "29                                              60703     \n",
       "30                                              69091     \n",
       "31                                              69741     \n",
       "\n",
       "    Natural Gas Delivered to Consumers in the U.S. (MMcf)  \\\n",
       "27                                            1988639       \n",
       "28                                            1906564       \n",
       "29                                            1903999       \n",
       "30                                            2182991       \n",
       "31                                            2201168       \n",
       "\n",
       "    U.S. Natural Gas Residential Consumption (MMcf)  \\\n",
       "27                                           327642   \n",
       "28                                           211616   \n",
       "29                                           128761   \n",
       "30                                           113482   \n",
       "31                                           101598   \n",
       "\n",
       "    Natural Gas Deliveries to Commercial Consumers (Including Vehicle Fuel through 1996) in the U.S. (MMcf)  \\\n",
       "27                                             248512                                                         \n",
       "28                                             185746                                                         \n",
       "29                                             144783                                                         \n",
       "30                                             143987                                                         \n",
       "31                                             142116                                                         \n",
       "\n",
       "    U.S. Natural Gas Industrial Consumption (MMcf)  \\\n",
       "27                                          672132   \n",
       "28                                          673190   \n",
       "29                                          632673   \n",
       "30                                          647345   \n",
       "31                                          664326   \n",
       "\n",
       "    U.S. Natural Gas Vehicle Fuel Consumption (MMcf)  \\\n",
       "27                                              4489   \n",
       "28                                              4639   \n",
       "29                                              4489   \n",
       "30                                              4639   \n",
       "31                                              4639   \n",
       "\n",
       "    U.S. Natural Gas Deliveries to Electric Power Consumers (MMcf)  ones  \n",
       "27                                             735863                  1  \n",
       "28                                             831373                  1  \n",
       "29                                             993293                  1  \n",
       "30                                            1273538                  1  \n",
       "31                                            1288489                  1  "
      ]
     },
     "execution_count": 6,
     "metadata": {},
     "output_type": "execute_result"
    }
   ],
   "source": [
    "m_df = temp_df.merge(ng_df, left_on=['themonth'], right_on=['Date'])\n",
    "m_df['ones'] = 1\n",
    "m_df.tail()"
   ]
  },
  {
   "cell_type": "code",
   "execution_count": 7,
   "metadata": {},
   "outputs": [],
   "source": [
    "from sklearn.linear_model import LinearRegression"
   ]
  },
  {
   "cell_type": "code",
   "execution_count": 8,
   "metadata": {},
   "outputs": [],
   "source": [
    "# X = temp_natl, y = U.S. Natural Gas Residential Consumption (MMcf)\n",
    "reg = LinearRegression().fit(m_df[['temp_natl']], m_df[['U.S. Natural Gas Residential Consumption (MMcf)']])"
   ]
  },
  {
   "cell_type": "code",
   "execution_count": 9,
   "metadata": {},
   "outputs": [],
   "source": [
    "reg_pred = reg.predict(m_df[['temp_natl']])"
   ]
  },
  {
   "cell_type": "code",
   "execution_count": 10,
   "metadata": {},
   "outputs": [
    {
     "data": {
      "text/plain": [
       "0.9402280087527911"
      ]
     },
     "execution_count": 10,
     "metadata": {},
     "output_type": "execute_result"
    }
   ],
   "source": [
    "reg.score(m_df[['temp_natl']], m_df[['U.S. Natural Gas Residential Consumption (MMcf)']])\n",
    "\n",
    "# That's a pretty good fit!!"
   ]
  },
  {
   "cell_type": "code",
   "execution_count": 11,
   "metadata": {},
   "outputs": [],
   "source": [
    "## step 2 : Using SkLearn, regress to sum of: U.S. Natural Gas Residential Consumption (MMcf) + Natural Gas Deliveries to Commercial Consumers (Including Vehicle Fuel through 1996) in the U.S. (MMcf)\n",
    "m_df['rescomm'] = m_df['U.S. Natural Gas Residential Consumption (MMcf)'] + m_df['Natural Gas Deliveries to Commercial Consumers (Including Vehicle Fuel through 1996) in the U.S. (MMcf)']\n"
   ]
  },
  {
   "cell_type": "code",
   "execution_count": 12,
   "metadata": {},
   "outputs": [
    {
     "data": {
      "text/html": [
       "<div>\n",
       "<style scoped>\n",
       "    .dataframe tbody tr th:only-of-type {\n",
       "        vertical-align: middle;\n",
       "    }\n",
       "\n",
       "    .dataframe tbody tr th {\n",
       "        vertical-align: top;\n",
       "    }\n",
       "\n",
       "    .dataframe thead th {\n",
       "        text-align: right;\n",
       "    }\n",
       "</style>\n",
       "<table border=\"1\" class=\"dataframe\">\n",
       "  <thead>\n",
       "    <tr style=\"text-align: right;\">\n",
       "      <th></th>\n",
       "      <th>themonth</th>\n",
       "      <th>hdd</th>\n",
       "      <th>cdd</th>\n",
       "      <th>temp_natl</th>\n",
       "      <th>Date</th>\n",
       "      <th>U.S. Natural Gas Total Consumption (MMcf)</th>\n",
       "      <th>U.S. Natural Gas Lease and Plant Fuel Consumption (MMcf)</th>\n",
       "      <th>U.S. Natural Gas Pipeline &amp; Distribution Use (MMcf)</th>\n",
       "      <th>Natural Gas Delivered to Consumers in the U.S. (MMcf)</th>\n",
       "      <th>U.S. Natural Gas Residential Consumption (MMcf)</th>\n",
       "      <th>Natural Gas Deliveries to Commercial Consumers (Including Vehicle Fuel through 1996) in the U.S. (MMcf)</th>\n",
       "      <th>U.S. Natural Gas Industrial Consumption (MMcf)</th>\n",
       "      <th>U.S. Natural Gas Vehicle Fuel Consumption (MMcf)</th>\n",
       "      <th>U.S. Natural Gas Deliveries to Electric Power Consumers (MMcf)</th>\n",
       "      <th>ones</th>\n",
       "      <th>rescomm</th>\n",
       "    </tr>\n",
       "  </thead>\n",
       "  <tbody>\n",
       "    <tr>\n",
       "      <th>27</th>\n",
       "      <td>2019-04-01</td>\n",
       "      <td>8.673257</td>\n",
       "      <td>1.523303</td>\n",
       "      <td>57.850047</td>\n",
       "      <td>2019-04-01</td>\n",
       "      <td>2201582</td>\n",
       "      <td>149778</td>\n",
       "      <td>63166</td>\n",
       "      <td>1988639</td>\n",
       "      <td>327642</td>\n",
       "      <td>248512</td>\n",
       "      <td>672132</td>\n",
       "      <td>4489</td>\n",
       "      <td>735863</td>\n",
       "      <td>1</td>\n",
       "      <td>576154</td>\n",
       "    </tr>\n",
       "    <tr>\n",
       "      <th>28</th>\n",
       "      <td>2019-05-01</td>\n",
       "      <td>4.221135</td>\n",
       "      <td>4.262452</td>\n",
       "      <td>65.041316</td>\n",
       "      <td>2019-05-01</td>\n",
       "      <td>2121523</td>\n",
       "      <td>154091</td>\n",
       "      <td>60869</td>\n",
       "      <td>1906564</td>\n",
       "      <td>211616</td>\n",
       "      <td>185746</td>\n",
       "      <td>673190</td>\n",
       "      <td>4639</td>\n",
       "      <td>831373</td>\n",
       "      <td>1</td>\n",
       "      <td>397362</td>\n",
       "    </tr>\n",
       "    <tr>\n",
       "      <th>29</th>\n",
       "      <td>2019-06-01</td>\n",
       "      <td>0.668620</td>\n",
       "      <td>7.894777</td>\n",
       "      <td>72.226157</td>\n",
       "      <td>2019-06-01</td>\n",
       "      <td>2115736</td>\n",
       "      <td>151035</td>\n",
       "      <td>60703</td>\n",
       "      <td>1903999</td>\n",
       "      <td>128761</td>\n",
       "      <td>144783</td>\n",
       "      <td>632673</td>\n",
       "      <td>4489</td>\n",
       "      <td>993293</td>\n",
       "      <td>1</td>\n",
       "      <td>273544</td>\n",
       "    </tr>\n",
       "    <tr>\n",
       "      <th>30</th>\n",
       "      <td>2019-07-01</td>\n",
       "      <td>0.041155</td>\n",
       "      <td>12.464210</td>\n",
       "      <td>77.423055</td>\n",
       "      <td>2019-07-01</td>\n",
       "      <td>2408122</td>\n",
       "      <td>156039</td>\n",
       "      <td>69091</td>\n",
       "      <td>2182991</td>\n",
       "      <td>113482</td>\n",
       "      <td>143987</td>\n",
       "      <td>647345</td>\n",
       "      <td>4639</td>\n",
       "      <td>1273538</td>\n",
       "      <td>1</td>\n",
       "      <td>257469</td>\n",
       "    </tr>\n",
       "    <tr>\n",
       "      <th>31</th>\n",
       "      <td>2019-08-01</td>\n",
       "      <td>0.081061</td>\n",
       "      <td>11.162419</td>\n",
       "      <td>76.081358</td>\n",
       "      <td>2019-08-01</td>\n",
       "      <td>2430780</td>\n",
       "      <td>159871</td>\n",
       "      <td>69741</td>\n",
       "      <td>2201168</td>\n",
       "      <td>101598</td>\n",
       "      <td>142116</td>\n",
       "      <td>664326</td>\n",
       "      <td>4639</td>\n",
       "      <td>1288489</td>\n",
       "      <td>1</td>\n",
       "      <td>243714</td>\n",
       "    </tr>\n",
       "  </tbody>\n",
       "</table>\n",
       "</div>"
      ],
      "text/plain": [
       "     themonth       hdd        cdd  temp_natl       Date  \\\n",
       "27 2019-04-01  8.673257   1.523303  57.850047 2019-04-01   \n",
       "28 2019-05-01  4.221135   4.262452  65.041316 2019-05-01   \n",
       "29 2019-06-01  0.668620   7.894777  72.226157 2019-06-01   \n",
       "30 2019-07-01  0.041155  12.464210  77.423055 2019-07-01   \n",
       "31 2019-08-01  0.081061  11.162419  76.081358 2019-08-01   \n",
       "\n",
       "    U.S. Natural Gas Total Consumption (MMcf)  \\\n",
       "27                                    2201582   \n",
       "28                                    2121523   \n",
       "29                                    2115736   \n",
       "30                                    2408122   \n",
       "31                                    2430780   \n",
       "\n",
       "    U.S. Natural Gas Lease and Plant Fuel Consumption (MMcf)  \\\n",
       "27                                             149778          \n",
       "28                                             154091          \n",
       "29                                             151035          \n",
       "30                                             156039          \n",
       "31                                             159871          \n",
       "\n",
       "    U.S. Natural Gas Pipeline & Distribution Use (MMcf)  \\\n",
       "27                                              63166     \n",
       "28                                              60869     \n",
       "29                                              60703     \n",
       "30                                              69091     \n",
       "31                                              69741     \n",
       "\n",
       "    Natural Gas Delivered to Consumers in the U.S. (MMcf)  \\\n",
       "27                                            1988639       \n",
       "28                                            1906564       \n",
       "29                                            1903999       \n",
       "30                                            2182991       \n",
       "31                                            2201168       \n",
       "\n",
       "    U.S. Natural Gas Residential Consumption (MMcf)  \\\n",
       "27                                           327642   \n",
       "28                                           211616   \n",
       "29                                           128761   \n",
       "30                                           113482   \n",
       "31                                           101598   \n",
       "\n",
       "    Natural Gas Deliveries to Commercial Consumers (Including Vehicle Fuel through 1996) in the U.S. (MMcf)  \\\n",
       "27                                             248512                                                         \n",
       "28                                             185746                                                         \n",
       "29                                             144783                                                         \n",
       "30                                             143987                                                         \n",
       "31                                             142116                                                         \n",
       "\n",
       "    U.S. Natural Gas Industrial Consumption (MMcf)  \\\n",
       "27                                          672132   \n",
       "28                                          673190   \n",
       "29                                          632673   \n",
       "30                                          647345   \n",
       "31                                          664326   \n",
       "\n",
       "    U.S. Natural Gas Vehicle Fuel Consumption (MMcf)  \\\n",
       "27                                              4489   \n",
       "28                                              4639   \n",
       "29                                              4489   \n",
       "30                                              4639   \n",
       "31                                              4639   \n",
       "\n",
       "    U.S. Natural Gas Deliveries to Electric Power Consumers (MMcf)  ones  \\\n",
       "27                                             735863                  1   \n",
       "28                                             831373                  1   \n",
       "29                                             993293                  1   \n",
       "30                                            1273538                  1   \n",
       "31                                            1288489                  1   \n",
       "\n",
       "    rescomm  \n",
       "27   576154  \n",
       "28   397362  \n",
       "29   273544  \n",
       "30   257469  \n",
       "31   243714  "
      ]
     },
     "execution_count": 12,
     "metadata": {},
     "output_type": "execute_result"
    }
   ],
   "source": [
    "m_df.tail()"
   ]
  },
  {
   "cell_type": "code",
   "execution_count": 13,
   "metadata": {},
   "outputs": [
    {
     "name": "stdout",
     "output_type": "stream",
     "text": [
      "R^2 for the sum of variables: 0.9423994988358022\n"
     ]
    }
   ],
   "source": [
    "# X = temp_natl, y = sum of U.S. Natural Gas Residential Consumption (MMcf) and Natural Gas Deliveries to Commercial Consumers\n",
    "reg_sum = LinearRegression().fit(m_df[['temp_natl']], m_df[['rescomm']])\n",
    "reg_sum_pred = reg_sum.predict(m_df[['temp_natl']])\n",
    "\n",
    "r_squared_sum = reg_sum.score(m_df[['temp_natl']], m_df[['rescomm']])\n",
    "# Print R^2\n",
    "print(\"R^2 for the sum of variables:\", r_squared_sum)"
   ]
  },
  {
   "cell_type": "raw",
   "metadata": {},
   "source": [
    "Step 3: What is R^2 ?\n",
    "\n",
    "In the context of linear regression, \n",
    "R^2 is a measure of how well the independent variable(s) explain the variability of the dependent variable. It ranges from 0 to 1, where:\n",
    "R^2=0 indicates that the model does not explain any of the variability in the dependent variable.\n",
    "R^2=1 indicates that the model explains all the variability in the dependent variable.\n",
    "\n"
   ]
  },
  {
   "cell_type": "code",
   "execution_count": 14,
   "metadata": {},
   "outputs": [
    {
     "name": "stderr",
     "output_type": "stream",
     "text": [
      "/Users/payal/opt/anaconda3/lib/python3.9/site-packages/sklearn/base.py:450: UserWarning:\n",
      "\n",
      "X does not have valid feature names, but LinearRegression was fitted with feature names\n",
      "\n"
     ]
    },
    {
     "data": {
      "text/plain": [
       "array([[373341.08269752]])"
      ]
     },
     "execution_count": 14,
     "metadata": {},
     "output_type": "execute_result"
    }
   ],
   "source": [
    "## step 4: Estimate October 2019! What was the residual between your estimate and the actual.\n",
    "import numpy as np\n",
    "predicted_value = reg.predict(np.array([[59.928497]]))\n",
    "predicted_value"
   ]
  },
  {
   "cell_type": "code",
   "execution_count": 39,
   "metadata": {},
   "outputs": [
    {
     "name": "stdout",
     "output_type": "stream",
     "text": [
      "The residual is : 74495.91264169523\n"
     ]
    }
   ],
   "source": [
    "import numpy as np\n",
    "temp_df['pred_residential'] = reg.predict(temp_df[['temp_natl']])\n",
    "filtered_df = temp_df.loc[(temp_df['themonth'] >= '2019-10-01')\n",
    "                     & (temp_df['themonth'] < '2019-10-31')]\n",
    "print(\"The residual is :\", 447837-filtered_df['pred_residential'].values[0])"
   ]
  },
  {
   "cell_type": "markdown",
   "metadata": {},
   "source": [
    "### LAB Item 2\n",
    "\n",
    "1. Run the same calculation as LAB Item 1 using the python statsmodels package\n",
    "\n",
    "import statsmodels.api as sm\n",
    "\n",
    "mod = sm.OLS(Y, X)\n",
    "\n",
    "res = mod.fit()"
   ]
  },
  {
   "cell_type": "code",
   "execution_count": 18,
   "metadata": {},
   "outputs": [
    {
     "data": {
      "text/plain": [
       "'0.13.2'"
      ]
     },
     "execution_count": 18,
     "metadata": {},
     "output_type": "execute_result"
    }
   ],
   "source": [
    "import statsmodels.api as sm\n",
    "import statsmodels\n",
    "statsmodels.__version__"
   ]
  },
  {
   "cell_type": "code",
   "execution_count": 19,
   "metadata": {},
   "outputs": [
    {
     "name": "stdout",
     "output_type": "stream",
     "text": [
      "                            OLS Regression Results                            \n",
      "==============================================================================\n",
      "Dep. Variable:                rescomm   R-squared:                       0.942\n",
      "Model:                            OLS   Adj. R-squared:                  0.940\n",
      "Method:                 Least Squares   F-statistic:                     490.8\n",
      "Date:                Mon, 30 Oct 2023   Prob (F-statistic):           3.79e-20\n",
      "Time:                        21:16:45   Log-Likelihood:                -415.32\n",
      "No. Observations:                  32   AIC:                             834.6\n",
      "Df Residuals:                      30   BIC:                             837.6\n",
      "Df Model:                           1                                         \n",
      "Covariance Type:            nonrobust                                         \n",
      "==============================================================================\n",
      "                 coef    std err          t      P>|t|      [0.025      0.975]\n",
      "------------------------------------------------------------------------------\n",
      "const       2.481e+06   8.36e+04     29.695      0.000    2.31e+06    2.65e+06\n",
      "temp_natl  -3.068e+04   1384.920    -22.155      0.000   -3.35e+04   -2.79e+04\n",
      "==============================================================================\n",
      "Omnibus:                        2.699   Durbin-Watson:                   1.215\n",
      "Prob(Omnibus):                  0.259   Jarque-Bera (JB):                1.330\n",
      "Skew:                           0.002   Prob(JB):                        0.514\n",
      "Kurtosis:                       2.001   Cond. No.                         264.\n",
      "==============================================================================\n",
      "\n",
      "Notes:\n",
      "[1] Standard Errors assume that the covariance matrix of the errors is correctly specified.\n"
     ]
    }
   ],
   "source": [
    "import statsmodels.api as sm\n",
    "\n",
    "# Define the independent variable (X) and dependent variable (Y)\n",
    "X = m_df[['temp_natl']]\n",
    "Y = m_df['rescomm']\n",
    "\n",
    "# Add a constant term to the independent variable\n",
    "X = sm.add_constant(X)\n",
    "\n",
    "# Fit the model\n",
    "mod = sm.OLS(Y, X)\n",
    "res = mod.fit()\n",
    "\n",
    "# Print the summary\n",
    "print(res.summary())"
   ]
  },
  {
   "cell_type": "markdown",
   "metadata": {},
   "source": [
    "### LAB Item 3\n",
    "\n",
    "Return to previous dataset: Adult income\n",
    "https://www.kaggle.com/wenruliu/adult-income-dataset\n",
    "\n",
    "Build a logistic Regression targeting income above / below 50k...\n",
    "\n",
    "Review Example."
   ]
  },
  {
   "cell_type": "code",
   "execution_count": 20,
   "metadata": {},
   "outputs": [],
   "source": [
    "import pandas as pd\n",
    "from sklearn.model_selection import train_test_split\n",
    "from sklearn.linear_model import LogisticRegression\n",
    "from sklearn.metrics import accuracy_score, classification_report"
   ]
  },
  {
   "cell_type": "code",
   "execution_count": 21,
   "metadata": {},
   "outputs": [
    {
     "data": {
      "text/html": [
       "<div>\n",
       "<style scoped>\n",
       "    .dataframe tbody tr th:only-of-type {\n",
       "        vertical-align: middle;\n",
       "    }\n",
       "\n",
       "    .dataframe tbody tr th {\n",
       "        vertical-align: top;\n",
       "    }\n",
       "\n",
       "    .dataframe thead th {\n",
       "        text-align: right;\n",
       "    }\n",
       "</style>\n",
       "<table border=\"1\" class=\"dataframe\">\n",
       "  <thead>\n",
       "    <tr style=\"text-align: right;\">\n",
       "      <th></th>\n",
       "      <th>age</th>\n",
       "      <th>workclass</th>\n",
       "      <th>fnlwgt</th>\n",
       "      <th>education</th>\n",
       "      <th>educational-num</th>\n",
       "      <th>marital-status</th>\n",
       "      <th>occupation</th>\n",
       "      <th>relationship</th>\n",
       "      <th>race</th>\n",
       "      <th>gender</th>\n",
       "      <th>capital-gain</th>\n",
       "      <th>capital-loss</th>\n",
       "      <th>hours-per-week</th>\n",
       "      <th>native-country</th>\n",
       "      <th>income</th>\n",
       "    </tr>\n",
       "  </thead>\n",
       "  <tbody>\n",
       "    <tr>\n",
       "      <th>48837</th>\n",
       "      <td>27</td>\n",
       "      <td>Private</td>\n",
       "      <td>257302</td>\n",
       "      <td>Assoc-acdm</td>\n",
       "      <td>12</td>\n",
       "      <td>Married-civ-spouse</td>\n",
       "      <td>Tech-support</td>\n",
       "      <td>Wife</td>\n",
       "      <td>White</td>\n",
       "      <td>Female</td>\n",
       "      <td>0</td>\n",
       "      <td>0</td>\n",
       "      <td>38</td>\n",
       "      <td>United-States</td>\n",
       "      <td>&lt;=50K</td>\n",
       "    </tr>\n",
       "    <tr>\n",
       "      <th>48838</th>\n",
       "      <td>40</td>\n",
       "      <td>Private</td>\n",
       "      <td>154374</td>\n",
       "      <td>HS-grad</td>\n",
       "      <td>9</td>\n",
       "      <td>Married-civ-spouse</td>\n",
       "      <td>Machine-op-inspct</td>\n",
       "      <td>Husband</td>\n",
       "      <td>White</td>\n",
       "      <td>Male</td>\n",
       "      <td>0</td>\n",
       "      <td>0</td>\n",
       "      <td>40</td>\n",
       "      <td>United-States</td>\n",
       "      <td>&gt;50K</td>\n",
       "    </tr>\n",
       "    <tr>\n",
       "      <th>48839</th>\n",
       "      <td>58</td>\n",
       "      <td>Private</td>\n",
       "      <td>151910</td>\n",
       "      <td>HS-grad</td>\n",
       "      <td>9</td>\n",
       "      <td>Widowed</td>\n",
       "      <td>Adm-clerical</td>\n",
       "      <td>Unmarried</td>\n",
       "      <td>White</td>\n",
       "      <td>Female</td>\n",
       "      <td>0</td>\n",
       "      <td>0</td>\n",
       "      <td>40</td>\n",
       "      <td>United-States</td>\n",
       "      <td>&lt;=50K</td>\n",
       "    </tr>\n",
       "    <tr>\n",
       "      <th>48840</th>\n",
       "      <td>22</td>\n",
       "      <td>Private</td>\n",
       "      <td>201490</td>\n",
       "      <td>HS-grad</td>\n",
       "      <td>9</td>\n",
       "      <td>Never-married</td>\n",
       "      <td>Adm-clerical</td>\n",
       "      <td>Own-child</td>\n",
       "      <td>White</td>\n",
       "      <td>Male</td>\n",
       "      <td>0</td>\n",
       "      <td>0</td>\n",
       "      <td>20</td>\n",
       "      <td>United-States</td>\n",
       "      <td>&lt;=50K</td>\n",
       "    </tr>\n",
       "    <tr>\n",
       "      <th>48841</th>\n",
       "      <td>52</td>\n",
       "      <td>Self-emp-inc</td>\n",
       "      <td>287927</td>\n",
       "      <td>HS-grad</td>\n",
       "      <td>9</td>\n",
       "      <td>Married-civ-spouse</td>\n",
       "      <td>Exec-managerial</td>\n",
       "      <td>Wife</td>\n",
       "      <td>White</td>\n",
       "      <td>Female</td>\n",
       "      <td>15024</td>\n",
       "      <td>0</td>\n",
       "      <td>40</td>\n",
       "      <td>United-States</td>\n",
       "      <td>&gt;50K</td>\n",
       "    </tr>\n",
       "  </tbody>\n",
       "</table>\n",
       "</div>"
      ],
      "text/plain": [
       "       age     workclass  fnlwgt   education  educational-num  \\\n",
       "48837   27       Private  257302  Assoc-acdm               12   \n",
       "48838   40       Private  154374     HS-grad                9   \n",
       "48839   58       Private  151910     HS-grad                9   \n",
       "48840   22       Private  201490     HS-grad                9   \n",
       "48841   52  Self-emp-inc  287927     HS-grad                9   \n",
       "\n",
       "           marital-status         occupation relationship   race  gender  \\\n",
       "48837  Married-civ-spouse       Tech-support         Wife  White  Female   \n",
       "48838  Married-civ-spouse  Machine-op-inspct      Husband  White    Male   \n",
       "48839             Widowed       Adm-clerical    Unmarried  White  Female   \n",
       "48840       Never-married       Adm-clerical    Own-child  White    Male   \n",
       "48841  Married-civ-spouse    Exec-managerial         Wife  White  Female   \n",
       "\n",
       "       capital-gain  capital-loss  hours-per-week native-country income  \n",
       "48837             0             0              38  United-States  <=50K  \n",
       "48838             0             0              40  United-States   >50K  \n",
       "48839             0             0              40  United-States  <=50K  \n",
       "48840             0             0              20  United-States  <=50K  \n",
       "48841         15024             0              40  United-States   >50K  "
      ]
     },
     "execution_count": 21,
     "metadata": {},
     "output_type": "execute_result"
    }
   ],
   "source": [
    "df = pd.read_csv('~/Documents/Machine_Learning/LAB/Week7/adult.csv', sep=',')\n",
    "df.tail()"
   ]
  },
  {
   "cell_type": "code",
   "execution_count": 22,
   "metadata": {},
   "outputs": [],
   "source": [
    "df = df.dropna()"
   ]
  },
  {
   "cell_type": "code",
   "execution_count": 23,
   "metadata": {},
   "outputs": [
    {
     "data": {
      "text/plain": [
       "15"
      ]
     },
     "execution_count": 23,
     "metadata": {},
     "output_type": "execute_result"
    }
   ],
   "source": [
    "num_columns = df.shape[1]\n",
    "num_columns"
   ]
  },
  {
   "cell_type": "code",
   "execution_count": null,
   "metadata": {},
   "outputs": [],
   "source": []
  },
  {
   "cell_type": "code",
   "execution_count": 24,
   "metadata": {},
   "outputs": [
    {
     "name": "stdout",
     "output_type": "stream",
     "text": [
      "Unique values in 'income' column after encoding: ['<=50K' '>50K']\n"
     ]
    }
   ],
   "source": [
    "print(\"Unique values in 'income' column after encoding:\", df[\"income\"].unique())"
   ]
  },
  {
   "cell_type": "code",
   "execution_count": 25,
   "metadata": {},
   "outputs": [
    {
     "data": {
      "text/plain": [
       "0        0\n",
       "1        0\n",
       "2        1\n",
       "3        1\n",
       "4        0\n",
       "        ..\n",
       "48837    0\n",
       "48838    1\n",
       "48839    0\n",
       "48840    0\n",
       "48841    1\n",
       "Name: income, Length: 48842, dtype: int64"
      ]
     },
     "execution_count": 25,
     "metadata": {},
     "output_type": "execute_result"
    }
   ],
   "source": [
    "# Target variable: 1 if income > 50k, 0 otherwise\n",
    "df[\"income\"] = df[\"income\"].apply(lambda x: 1 if x == '>50K' else 0)\n",
    "df[\"income\"] "
   ]
  },
  {
   "cell_type": "code",
   "execution_count": 26,
   "metadata": {},
   "outputs": [],
   "source": [
    "for column in df.columns:\n",
    "    if df[column].dtype == type(object):\n",
    "        le = sklearn.preprocessing.LabelEncoder()\n",
    "        df[column] = le.fit_transform(df[column])"
   ]
  },
  {
   "cell_type": "code",
   "execution_count": 27,
   "metadata": {},
   "outputs": [],
   "source": [
    "# Features and target\n",
    "X = df.drop(\"income\", axis=1)\n",
    "y = df[\"income\"]"
   ]
  },
  {
   "cell_type": "code",
   "execution_count": 28,
   "metadata": {},
   "outputs": [],
   "source": [
    "# Split the data into training and testing sets\n",
    "X_train, X_test, y_train, y_test = train_test_split(X, y, test_size=0.2, random_state=42)"
   ]
  },
  {
   "cell_type": "code",
   "execution_count": 29,
   "metadata": {},
   "outputs": [
    {
     "data": {
      "text/plain": [
       "LogisticRegression(random_state=42)"
      ]
     },
     "execution_count": 29,
     "metadata": {},
     "output_type": "execute_result"
    }
   ],
   "source": [
    "# Build a logistic regression model\n",
    "model = LogisticRegression(random_state=42)\n",
    "model.fit(X_train, y_train)"
   ]
  },
  {
   "cell_type": "code",
   "execution_count": 30,
   "metadata": {},
   "outputs": [],
   "source": [
    "y_pred = model.predict(X_test)"
   ]
  },
  {
   "cell_type": "code",
   "execution_count": 31,
   "metadata": {},
   "outputs": [
    {
     "name": "stdout",
     "output_type": "stream",
     "text": [
      "Accuracy: 0.7925\n",
      "\n",
      "Classification Report:\n",
      "              precision    recall  f1-score   support\n",
      "\n",
      "           0       0.82      0.94      0.87      7479\n",
      "           1       0.62      0.30      0.41      2290\n",
      "\n",
      "    accuracy                           0.79      9769\n",
      "   macro avg       0.72      0.62      0.64      9769\n",
      "weighted avg       0.77      0.79      0.76      9769\n",
      "\n"
     ]
    }
   ],
   "source": [
    "accuracy = accuracy_score(y_test, y_pred)\n",
    "classification_report_str = classification_report(y_test, y_pred)\n",
    "\n",
    "\n",
    "print(f\"Accuracy: {accuracy:.4f}\")\n",
    "print(\"\\nClassification Report:\")\n",
    "print(classification_report_str)"
   ]
  },
  {
   "cell_type": "markdown",
   "metadata": {},
   "source": [
    "### LAB Item 4: Let's take a look at the sklearn California housing dataset from previous weeks\n",
    "\n",
    "... A)  review a multivariate regression from this week's content (built in class notes)\n",
    "\n",
    "... B) Compare the results from the multivariate linear regression to a random forest by building a RF.  You've built a random forest on this dataset before.  Note the differences in model accuracy between the linear regression and RF."
   ]
  },
  {
   "cell_type": "code",
   "execution_count": 32,
   "metadata": {},
   "outputs": [],
   "source": [
    "from sklearn.datasets import fetch_california_housing\n",
    "from sklearn.model_selection import train_test_split\n",
    "from sklearn.linear_model import LinearRegression\n",
    "from sklearn.ensemble import RandomForestRegressor\n",
    "from sklearn.metrics import mean_squared_error"
   ]
  },
  {
   "cell_type": "code",
   "execution_count": 33,
   "metadata": {},
   "outputs": [],
   "source": [
    "data = fetch_california_housing()"
   ]
  },
  {
   "cell_type": "code",
   "execution_count": 34,
   "metadata": {},
   "outputs": [],
   "source": [
    "X = pd.DataFrame(data.data, columns = data.feature_names)\n",
    "y = pd.DataFrame(data.target, columns = [\"MedHouseVal\"])"
   ]
  },
  {
   "cell_type": "code",
   "execution_count": 35,
   "metadata": {},
   "outputs": [
    {
     "name": "stdout",
     "output_type": "stream",
     "text": [
      "Mean Squared Error (Linear Regression): 0.13305238395620556\n"
     ]
    }
   ],
   "source": [
    "# A) Multivariate Linear Regression\n",
    "linear_reg_model = LinearRegression()\n",
    "linear_reg_model.fit(X_train, y_train)\n",
    "\n",
    "# Make predictions on the test set\n",
    "linear_reg_predictions = linear_reg_model.predict(X_test)\n",
    "\n",
    "# Calculate mean squared error for linear regression\n",
    "mse_linear_reg = mean_squared_error(y_test, linear_reg_predictions)\n",
    "print(f\"Mean Squared Error (Linear Regression): {mse_linear_reg}\")\n"
   ]
  },
  {
   "cell_type": "code",
   "execution_count": 36,
   "metadata": {},
   "outputs": [
    {
     "name": "stdout",
     "output_type": "stream",
     "text": [
      "Mean Squared Error (Random Forest): 0.0980179414900877\n"
     ]
    }
   ],
   "source": [
    "# B) Random Forest Regression\n",
    "random_forest_model = RandomForestRegressor(random_state=42)\n",
    "random_forest_model.fit(X_train, y_train)\n",
    "\n",
    "# Make predictions on the test set\n",
    "random_forest_predictions = random_forest_model.predict(X_test)\n",
    "\n",
    "# Calculate mean squared error for random forest\n",
    "mse_random_forest = mean_squared_error(y_test, random_forest_predictions)\n",
    "print(f\"Mean Squared Error (Random Forest): {mse_random_forest}\")"
   ]
  },
  {
   "cell_type": "code",
   "execution_count": 37,
   "metadata": {},
   "outputs": [
    {
     "name": "stdout",
     "output_type": "stream",
     "text": [
      "Difference in MSE: 0.03503444246611785\n"
     ]
    }
   ],
   "source": [
    "# Calculate the difference in MSE\n",
    "mse_difference = mse_linear_reg - mse_random_forest\n",
    "print(f\"Difference in MSE: {mse_difference}\")"
   ]
  }
 ],
 "metadata": {
  "kernelspec": {
   "display_name": "Python 3 (ipykernel)",
   "language": "python",
   "name": "python3"
  },
  "language_info": {
   "codemirror_mode": {
    "name": "ipython",
    "version": 3
   },
   "file_extension": ".py",
   "mimetype": "text/x-python",
   "name": "python",
   "nbconvert_exporter": "python",
   "pygments_lexer": "ipython3",
   "version": "3.9.13"
  }
 },
 "nbformat": 4,
 "nbformat_minor": 4
}
