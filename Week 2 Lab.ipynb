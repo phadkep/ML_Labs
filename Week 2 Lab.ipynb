{
 "cells": [
  {
   "cell_type": "code",
   "execution_count": 1,
   "id": "fundamental-mayor",
   "metadata": {},
   "outputs": [],
   "source": [
    "# You will need these imports\n",
    "import pandas as pd\n",
    "import matplotlib \n",
    "import matplotlib.pyplot as plt\n",
    "%matplotlib inline"
   ]
  },
  {
   "cell_type": "markdown",
   "id": "grave-shanghai",
   "metadata": {},
   "source": [
    "### Download Chicago Divvy Bike Data from Kaggle\n",
    "https://www.kaggle.com/michaelshoemaker/divvy-bike-chicago-2018"
   ]
  },
  {
   "cell_type": "markdown",
   "id": "pediatric-biology",
   "metadata": {},
   "source": [
    "### 1. Create four DataFrames from the four .csv files"
   ]
  },
  {
   "cell_type": "code",
   "execution_count": 12,
   "id": "blind-visitor",
   "metadata": {},
   "outputs": [],
   "source": [
    "Q1_df = pd.read_csv(\"~/Documents/Machine_Learning/LAB/Week2/Chicago_data/Divvy_Trips_2018_Q1.csv\")\n",
    "Q2_df = pd.read_csv(\"~/Documents/Machine_Learning/LAB/Week2/Chicago_data/Divvy_Trips_2018_Q2.csv\")\n",
    "Q3_df = pd.read_csv(\"~/Documents/Machine_Learning/LAB/Week2/Chicago_data/Divvy_Trips_2018_Q3.csv\")\n",
    "Q4_df = pd.read_csv(\"~/Documents/Machine_Learning/LAB/Week2/Chicago_data/Divvy_Trips_2018_Q4.csv\")"
   ]
  },
  {
   "cell_type": "code",
   "execution_count": 15,
   "id": "196be625",
   "metadata": {},
   "outputs": [
    {
     "data": {
      "text/plain": [
       "trip_id              387145\n",
       "start_time           387145\n",
       "end_time             387145\n",
       "bikeid               387145\n",
       "tripduration         387145\n",
       "from_station_id      387145\n",
       "from_station_name    387145\n",
       "to_station_id        387145\n",
       "to_station_name      387145\n",
       "usertype             387145\n",
       "gender               364652\n",
       "birthyear            364823\n",
       "dtype: int64"
      ]
     },
     "execution_count": 15,
     "metadata": {},
     "output_type": "execute_result"
    }
   ],
   "source": [
    "Q1_df.count()"
   ]
  },
  {
   "cell_type": "markdown",
   "id": "laughing-license",
   "metadata": {},
   "source": [
    "### 2. Create a single dataframe by combining the four previously created\n",
    "\n",
    "hint: https://pandas.pydata.org/pandas-docs/stable/reference/api/pandas.concat.html"
   ]
  },
  {
   "cell_type": "code",
   "execution_count": 33,
   "id": "ongoing-rhythm",
   "metadata": {},
   "outputs": [
    {
     "data": {
      "text/html": [
       "<div>\n",
       "<style scoped>\n",
       "    .dataframe tbody tr th:only-of-type {\n",
       "        vertical-align: middle;\n",
       "    }\n",
       "\n",
       "    .dataframe tbody tr th {\n",
       "        vertical-align: top;\n",
       "    }\n",
       "\n",
       "    .dataframe thead th {\n",
       "        text-align: right;\n",
       "    }\n",
       "</style>\n",
       "<table border=\"1\" class=\"dataframe\">\n",
       "  <thead>\n",
       "    <tr style=\"text-align: right;\">\n",
       "      <th></th>\n",
       "      <th>trip_id</th>\n",
       "      <th>start_time</th>\n",
       "      <th>end_time</th>\n",
       "      <th>bikeid</th>\n",
       "      <th>tripduration</th>\n",
       "      <th>from_station_id</th>\n",
       "      <th>from_station_name</th>\n",
       "      <th>to_station_id</th>\n",
       "      <th>to_station_name</th>\n",
       "      <th>usertype</th>\n",
       "      <th>gender</th>\n",
       "      <th>birthyear</th>\n",
       "    </tr>\n",
       "  </thead>\n",
       "  <tbody>\n",
       "    <tr>\n",
       "      <th>0</th>\n",
       "      <td>17536702</td>\n",
       "      <td>2018-01-01 00:12:00</td>\n",
       "      <td>2018-01-01 00:17:23</td>\n",
       "      <td>3304</td>\n",
       "      <td>323.0</td>\n",
       "      <td>69</td>\n",
       "      <td>Damen Ave &amp; Pierce Ave</td>\n",
       "      <td>159</td>\n",
       "      <td>Claremont Ave &amp; Hirsch St</td>\n",
       "      <td>Subscriber</td>\n",
       "      <td>Male</td>\n",
       "      <td>1988.0</td>\n",
       "    </tr>\n",
       "    <tr>\n",
       "      <th>1</th>\n",
       "      <td>17536703</td>\n",
       "      <td>2018-01-01 00:41:35</td>\n",
       "      <td>2018-01-01 00:47:52</td>\n",
       "      <td>5367</td>\n",
       "      <td>377.0</td>\n",
       "      <td>253</td>\n",
       "      <td>Winthrop Ave &amp; Lawrence Ave</td>\n",
       "      <td>325</td>\n",
       "      <td>Clark St &amp; Winnemac Ave (Temp)</td>\n",
       "      <td>Subscriber</td>\n",
       "      <td>Male</td>\n",
       "      <td>1984.0</td>\n",
       "    </tr>\n",
       "    <tr>\n",
       "      <th>2</th>\n",
       "      <td>17536704</td>\n",
       "      <td>2018-01-01 00:44:46</td>\n",
       "      <td>2018-01-01 01:33:10</td>\n",
       "      <td>4599</td>\n",
       "      <td>2,904.0</td>\n",
       "      <td>98</td>\n",
       "      <td>LaSalle St &amp; Washington St</td>\n",
       "      <td>509</td>\n",
       "      <td>Troy St &amp; North Ave</td>\n",
       "      <td>Subscriber</td>\n",
       "      <td>Male</td>\n",
       "      <td>1989.0</td>\n",
       "    </tr>\n",
       "    <tr>\n",
       "      <th>3</th>\n",
       "      <td>17536705</td>\n",
       "      <td>2018-01-01 00:53:10</td>\n",
       "      <td>2018-01-01 01:05:37</td>\n",
       "      <td>2302</td>\n",
       "      <td>747.0</td>\n",
       "      <td>125</td>\n",
       "      <td>Rush St &amp; Hubbard St</td>\n",
       "      <td>364</td>\n",
       "      <td>Larrabee St &amp; Oak St</td>\n",
       "      <td>Subscriber</td>\n",
       "      <td>Male</td>\n",
       "      <td>1983.0</td>\n",
       "    </tr>\n",
       "    <tr>\n",
       "      <th>4</th>\n",
       "      <td>17536706</td>\n",
       "      <td>2018-01-01 00:53:37</td>\n",
       "      <td>2018-01-01 00:56:40</td>\n",
       "      <td>3696</td>\n",
       "      <td>183.0</td>\n",
       "      <td>129</td>\n",
       "      <td>Blue Island Ave &amp; 18th St</td>\n",
       "      <td>205</td>\n",
       "      <td>Paulina St &amp; 18th St</td>\n",
       "      <td>Subscriber</td>\n",
       "      <td>Male</td>\n",
       "      <td>1989.0</td>\n",
       "    </tr>\n",
       "    <tr>\n",
       "      <th>...</th>\n",
       "      <td>...</td>\n",
       "      <td>...</td>\n",
       "      <td>...</td>\n",
       "      <td>...</td>\n",
       "      <td>...</td>\n",
       "      <td>...</td>\n",
       "      <td>...</td>\n",
       "      <td>...</td>\n",
       "      <td>...</td>\n",
       "      <td>...</td>\n",
       "      <td>...</td>\n",
       "      <td>...</td>\n",
       "    </tr>\n",
       "    <tr>\n",
       "      <th>642681</th>\n",
       "      <td>21742438</td>\n",
       "      <td>2018-12-31 23:45:17</td>\n",
       "      <td>2018-12-31 23:50:05</td>\n",
       "      <td>2931</td>\n",
       "      <td>288.0</td>\n",
       "      <td>49</td>\n",
       "      <td>Dearborn St &amp; Monroe St</td>\n",
       "      <td>164</td>\n",
       "      <td>Franklin St &amp; Lake St</td>\n",
       "      <td>Subscriber</td>\n",
       "      <td>Female</td>\n",
       "      <td>1983.0</td>\n",
       "    </tr>\n",
       "    <tr>\n",
       "      <th>642682</th>\n",
       "      <td>21742439</td>\n",
       "      <td>2018-12-31 23:48:48</td>\n",
       "      <td>2018-12-31 23:57:22</td>\n",
       "      <td>4386</td>\n",
       "      <td>514.0</td>\n",
       "      <td>624</td>\n",
       "      <td>Dearborn St &amp; Van Buren St (*)</td>\n",
       "      <td>44</td>\n",
       "      <td>State St &amp; Randolph St</td>\n",
       "      <td>Subscriber</td>\n",
       "      <td>Female</td>\n",
       "      <td>1990.0</td>\n",
       "    </tr>\n",
       "    <tr>\n",
       "      <th>642683</th>\n",
       "      <td>21742440</td>\n",
       "      <td>2018-12-31 23:50:09</td>\n",
       "      <td>2018-12-31 23:57:16</td>\n",
       "      <td>4927</td>\n",
       "      <td>427.0</td>\n",
       "      <td>41</td>\n",
       "      <td>Federal St &amp; Polk St</td>\n",
       "      <td>52</td>\n",
       "      <td>Michigan Ave &amp; Lake St</td>\n",
       "      <td>Subscriber</td>\n",
       "      <td>Female</td>\n",
       "      <td>1995.0</td>\n",
       "    </tr>\n",
       "    <tr>\n",
       "      <th>642684</th>\n",
       "      <td>21742441</td>\n",
       "      <td>2018-12-31 23:55:04</td>\n",
       "      <td>2018-12-31 23:58:24</td>\n",
       "      <td>1350</td>\n",
       "      <td>200.0</td>\n",
       "      <td>141</td>\n",
       "      <td>Clark St &amp; Lincoln Ave</td>\n",
       "      <td>118</td>\n",
       "      <td>Sedgwick St &amp; North Ave</td>\n",
       "      <td>Subscriber</td>\n",
       "      <td>Male</td>\n",
       "      <td>1999.0</td>\n",
       "    </tr>\n",
       "    <tr>\n",
       "      <th>642685</th>\n",
       "      <td>21742442</td>\n",
       "      <td>2018-12-31 23:59:18</td>\n",
       "      <td>2019-01-01 00:20:43</td>\n",
       "      <td>2006</td>\n",
       "      <td>1,285.0</td>\n",
       "      <td>260</td>\n",
       "      <td>Kedzie Ave &amp; Milwaukee Ave</td>\n",
       "      <td>166</td>\n",
       "      <td>Ashland Ave &amp; Wrightwood Ave</td>\n",
       "      <td>Subscriber</td>\n",
       "      <td>Male</td>\n",
       "      <td>1990.0</td>\n",
       "    </tr>\n",
       "  </tbody>\n",
       "</table>\n",
       "<p>3603082 rows × 12 columns</p>\n",
       "</div>"
      ],
      "text/plain": [
       "         trip_id           start_time             end_time  bikeid  \\\n",
       "0       17536702  2018-01-01 00:12:00  2018-01-01 00:17:23    3304   \n",
       "1       17536703  2018-01-01 00:41:35  2018-01-01 00:47:52    5367   \n",
       "2       17536704  2018-01-01 00:44:46  2018-01-01 01:33:10    4599   \n",
       "3       17536705  2018-01-01 00:53:10  2018-01-01 01:05:37    2302   \n",
       "4       17536706  2018-01-01 00:53:37  2018-01-01 00:56:40    3696   \n",
       "...          ...                  ...                  ...     ...   \n",
       "642681  21742438  2018-12-31 23:45:17  2018-12-31 23:50:05    2931   \n",
       "642682  21742439  2018-12-31 23:48:48  2018-12-31 23:57:22    4386   \n",
       "642683  21742440  2018-12-31 23:50:09  2018-12-31 23:57:16    4927   \n",
       "642684  21742441  2018-12-31 23:55:04  2018-12-31 23:58:24    1350   \n",
       "642685  21742442  2018-12-31 23:59:18  2019-01-01 00:20:43    2006   \n",
       "\n",
       "       tripduration  from_station_id               from_station_name  \\\n",
       "0             323.0               69          Damen Ave & Pierce Ave   \n",
       "1             377.0              253     Winthrop Ave & Lawrence Ave   \n",
       "2           2,904.0               98      LaSalle St & Washington St   \n",
       "3             747.0              125            Rush St & Hubbard St   \n",
       "4             183.0              129       Blue Island Ave & 18th St   \n",
       "...             ...              ...                             ...   \n",
       "642681        288.0               49         Dearborn St & Monroe St   \n",
       "642682        514.0              624  Dearborn St & Van Buren St (*)   \n",
       "642683        427.0               41            Federal St & Polk St   \n",
       "642684        200.0              141          Clark St & Lincoln Ave   \n",
       "642685      1,285.0              260      Kedzie Ave & Milwaukee Ave   \n",
       "\n",
       "        to_station_id                 to_station_name    usertype  gender  \\\n",
       "0                 159       Claremont Ave & Hirsch St  Subscriber    Male   \n",
       "1                 325  Clark St & Winnemac Ave (Temp)  Subscriber    Male   \n",
       "2                 509             Troy St & North Ave  Subscriber    Male   \n",
       "3                 364            Larrabee St & Oak St  Subscriber    Male   \n",
       "4                 205            Paulina St & 18th St  Subscriber    Male   \n",
       "...               ...                             ...         ...     ...   \n",
       "642681            164           Franklin St & Lake St  Subscriber  Female   \n",
       "642682             44          State St & Randolph St  Subscriber  Female   \n",
       "642683             52          Michigan Ave & Lake St  Subscriber  Female   \n",
       "642684            118         Sedgwick St & North Ave  Subscriber    Male   \n",
       "642685            166    Ashland Ave & Wrightwood Ave  Subscriber    Male   \n",
       "\n",
       "        birthyear  \n",
       "0          1988.0  \n",
       "1          1984.0  \n",
       "2          1989.0  \n",
       "3          1983.0  \n",
       "4          1989.0  \n",
       "...           ...  \n",
       "642681     1983.0  \n",
       "642682     1990.0  \n",
       "642683     1995.0  \n",
       "642684     1999.0  \n",
       "642685     1990.0  \n",
       "\n",
       "[3603082 rows x 12 columns]"
      ]
     },
     "execution_count": 33,
     "metadata": {},
     "output_type": "execute_result"
    }
   ],
   "source": [
    "Combine_Result = pd.concat([Q1_df, Q2_df,Q3_df,Q4_df])\n",
    "Combine_Result"
   ]
  },
  {
   "cell_type": "markdown",
   "id": "marine-northern",
   "metadata": {},
   "source": [
    "### 3. What is the length of the resulting DataFrame ?"
   ]
  },
  {
   "cell_type": "code",
   "execution_count": 34,
   "id": "popular-schema",
   "metadata": {},
   "outputs": [
    {
     "data": {
      "text/plain": [
       "3603082"
      ]
     },
     "execution_count": 34,
     "metadata": {},
     "output_type": "execute_result"
    }
   ],
   "source": [
    "row_count = len(Combine_Result)\n",
    "row_count"
   ]
  },
  {
   "cell_type": "markdown",
   "id": "bearing-armstrong",
   "metadata": {},
   "source": [
    "### 4. List the datetype of each column\n",
    "Hint: https://pandas.pydata.org/pandas-docs/stable/reference/api/pandas.DataFrame.dtypes.html\n"
   ]
  },
  {
   "cell_type": "code",
   "execution_count": 35,
   "id": "provincial-armenia",
   "metadata": {},
   "outputs": [
    {
     "data": {
      "text/plain": [
       "trip_id                int64\n",
       "start_time            object\n",
       "end_time              object\n",
       "bikeid                 int64\n",
       "tripduration          object\n",
       "from_station_id        int64\n",
       "from_station_name     object\n",
       "to_station_id          int64\n",
       "to_station_name       object\n",
       "usertype              object\n",
       "gender                object\n",
       "birthyear            float64\n",
       "dtype: object"
      ]
     },
     "execution_count": 35,
     "metadata": {},
     "output_type": "execute_result"
    }
   ],
   "source": [
    "Combine_Result.dtypes"
   ]
  },
  {
   "cell_type": "markdown",
   "id": "discrete-chance",
   "metadata": {},
   "source": [
    "### 5. Turn the two date columns into type pandas.datetime "
   ]
  },
  {
   "cell_type": "code",
   "execution_count": 36,
   "id": "vietnamese-spelling",
   "metadata": {},
   "outputs": [],
   "source": [
    "Combine_Result['start_time'] = pd.to_datetime(Combine_Result['start_time'])\n",
    "Combine_Result['end_time'] = pd.to_datetime(Combine_Result['end_time'])"
   ]
  },
  {
   "cell_type": "markdown",
   "id": "electronic-plaza",
   "metadata": {},
   "source": [
    "### 6. Now list the dataframe types"
   ]
  },
  {
   "cell_type": "code",
   "execution_count": 37,
   "id": "approximate-jimmy",
   "metadata": {},
   "outputs": [
    {
     "data": {
      "text/plain": [
       "trip_id                       int64\n",
       "start_time           datetime64[ns]\n",
       "end_time             datetime64[ns]\n",
       "bikeid                        int64\n",
       "tripduration                 object\n",
       "from_station_id               int64\n",
       "from_station_name            object\n",
       "to_station_id                 int64\n",
       "to_station_name              object\n",
       "usertype                     object\n",
       "gender                       object\n",
       "birthyear                   float64\n",
       "dtype: object"
      ]
     },
     "execution_count": 37,
     "metadata": {},
     "output_type": "execute_result"
    }
   ],
   "source": [
    "Combine_Result.dtypes"
   ]
  },
  {
   "cell_type": "markdown",
   "id": "prime-weekly",
   "metadata": {},
   "source": [
    "### 7. Create a new column with the month of start_time"
   ]
  },
  {
   "cell_type": "code",
   "execution_count": 41,
   "id": "polished-eugene",
   "metadata": {},
   "outputs": [
    {
     "data": {
      "text/html": [
       "<div>\n",
       "<style scoped>\n",
       "    .dataframe tbody tr th:only-of-type {\n",
       "        vertical-align: middle;\n",
       "    }\n",
       "\n",
       "    .dataframe tbody tr th {\n",
       "        vertical-align: top;\n",
       "    }\n",
       "\n",
       "    .dataframe thead th {\n",
       "        text-align: right;\n",
       "    }\n",
       "</style>\n",
       "<table border=\"1\" class=\"dataframe\">\n",
       "  <thead>\n",
       "    <tr style=\"text-align: right;\">\n",
       "      <th></th>\n",
       "      <th>trip_id</th>\n",
       "      <th>start_time</th>\n",
       "      <th>end_time</th>\n",
       "      <th>bikeid</th>\n",
       "      <th>tripduration</th>\n",
       "      <th>from_station_id</th>\n",
       "      <th>from_station_name</th>\n",
       "      <th>to_station_id</th>\n",
       "      <th>to_station_name</th>\n",
       "      <th>usertype</th>\n",
       "      <th>gender</th>\n",
       "      <th>birthyear</th>\n",
       "      <th>Month_start_time</th>\n",
       "      <th>Month</th>\n",
       "    </tr>\n",
       "  </thead>\n",
       "  <tbody>\n",
       "    <tr>\n",
       "      <th>0</th>\n",
       "      <td>17536702</td>\n",
       "      <td>2018-01-01 00:12:00</td>\n",
       "      <td>2018-01-01 00:17:23</td>\n",
       "      <td>3304</td>\n",
       "      <td>323.0</td>\n",
       "      <td>69</td>\n",
       "      <td>Damen Ave &amp; Pierce Ave</td>\n",
       "      <td>159</td>\n",
       "      <td>Claremont Ave &amp; Hirsch St</td>\n",
       "      <td>Subscriber</td>\n",
       "      <td>Male</td>\n",
       "      <td>1988.0</td>\n",
       "      <td>1</td>\n",
       "      <td>1</td>\n",
       "    </tr>\n",
       "    <tr>\n",
       "      <th>1</th>\n",
       "      <td>17536703</td>\n",
       "      <td>2018-01-01 00:41:35</td>\n",
       "      <td>2018-01-01 00:47:52</td>\n",
       "      <td>5367</td>\n",
       "      <td>377.0</td>\n",
       "      <td>253</td>\n",
       "      <td>Winthrop Ave &amp; Lawrence Ave</td>\n",
       "      <td>325</td>\n",
       "      <td>Clark St &amp; Winnemac Ave (Temp)</td>\n",
       "      <td>Subscriber</td>\n",
       "      <td>Male</td>\n",
       "      <td>1984.0</td>\n",
       "      <td>1</td>\n",
       "      <td>1</td>\n",
       "    </tr>\n",
       "    <tr>\n",
       "      <th>2</th>\n",
       "      <td>17536704</td>\n",
       "      <td>2018-01-01 00:44:46</td>\n",
       "      <td>2018-01-01 01:33:10</td>\n",
       "      <td>4599</td>\n",
       "      <td>2,904.0</td>\n",
       "      <td>98</td>\n",
       "      <td>LaSalle St &amp; Washington St</td>\n",
       "      <td>509</td>\n",
       "      <td>Troy St &amp; North Ave</td>\n",
       "      <td>Subscriber</td>\n",
       "      <td>Male</td>\n",
       "      <td>1989.0</td>\n",
       "      <td>1</td>\n",
       "      <td>1</td>\n",
       "    </tr>\n",
       "    <tr>\n",
       "      <th>3</th>\n",
       "      <td>17536705</td>\n",
       "      <td>2018-01-01 00:53:10</td>\n",
       "      <td>2018-01-01 01:05:37</td>\n",
       "      <td>2302</td>\n",
       "      <td>747.0</td>\n",
       "      <td>125</td>\n",
       "      <td>Rush St &amp; Hubbard St</td>\n",
       "      <td>364</td>\n",
       "      <td>Larrabee St &amp; Oak St</td>\n",
       "      <td>Subscriber</td>\n",
       "      <td>Male</td>\n",
       "      <td>1983.0</td>\n",
       "      <td>1</td>\n",
       "      <td>1</td>\n",
       "    </tr>\n",
       "    <tr>\n",
       "      <th>4</th>\n",
       "      <td>17536706</td>\n",
       "      <td>2018-01-01 00:53:37</td>\n",
       "      <td>2018-01-01 00:56:40</td>\n",
       "      <td>3696</td>\n",
       "      <td>183.0</td>\n",
       "      <td>129</td>\n",
       "      <td>Blue Island Ave &amp; 18th St</td>\n",
       "      <td>205</td>\n",
       "      <td>Paulina St &amp; 18th St</td>\n",
       "      <td>Subscriber</td>\n",
       "      <td>Male</td>\n",
       "      <td>1989.0</td>\n",
       "      <td>1</td>\n",
       "      <td>1</td>\n",
       "    </tr>\n",
       "    <tr>\n",
       "      <th>...</th>\n",
       "      <td>...</td>\n",
       "      <td>...</td>\n",
       "      <td>...</td>\n",
       "      <td>...</td>\n",
       "      <td>...</td>\n",
       "      <td>...</td>\n",
       "      <td>...</td>\n",
       "      <td>...</td>\n",
       "      <td>...</td>\n",
       "      <td>...</td>\n",
       "      <td>...</td>\n",
       "      <td>...</td>\n",
       "      <td>...</td>\n",
       "      <td>...</td>\n",
       "    </tr>\n",
       "    <tr>\n",
       "      <th>642681</th>\n",
       "      <td>21742438</td>\n",
       "      <td>2018-12-31 23:45:17</td>\n",
       "      <td>2018-12-31 23:50:05</td>\n",
       "      <td>2931</td>\n",
       "      <td>288.0</td>\n",
       "      <td>49</td>\n",
       "      <td>Dearborn St &amp; Monroe St</td>\n",
       "      <td>164</td>\n",
       "      <td>Franklin St &amp; Lake St</td>\n",
       "      <td>Subscriber</td>\n",
       "      <td>Female</td>\n",
       "      <td>1983.0</td>\n",
       "      <td>12</td>\n",
       "      <td>12</td>\n",
       "    </tr>\n",
       "    <tr>\n",
       "      <th>642682</th>\n",
       "      <td>21742439</td>\n",
       "      <td>2018-12-31 23:48:48</td>\n",
       "      <td>2018-12-31 23:57:22</td>\n",
       "      <td>4386</td>\n",
       "      <td>514.0</td>\n",
       "      <td>624</td>\n",
       "      <td>Dearborn St &amp; Van Buren St (*)</td>\n",
       "      <td>44</td>\n",
       "      <td>State St &amp; Randolph St</td>\n",
       "      <td>Subscriber</td>\n",
       "      <td>Female</td>\n",
       "      <td>1990.0</td>\n",
       "      <td>12</td>\n",
       "      <td>12</td>\n",
       "    </tr>\n",
       "    <tr>\n",
       "      <th>642683</th>\n",
       "      <td>21742440</td>\n",
       "      <td>2018-12-31 23:50:09</td>\n",
       "      <td>2018-12-31 23:57:16</td>\n",
       "      <td>4927</td>\n",
       "      <td>427.0</td>\n",
       "      <td>41</td>\n",
       "      <td>Federal St &amp; Polk St</td>\n",
       "      <td>52</td>\n",
       "      <td>Michigan Ave &amp; Lake St</td>\n",
       "      <td>Subscriber</td>\n",
       "      <td>Female</td>\n",
       "      <td>1995.0</td>\n",
       "      <td>12</td>\n",
       "      <td>12</td>\n",
       "    </tr>\n",
       "    <tr>\n",
       "      <th>642684</th>\n",
       "      <td>21742441</td>\n",
       "      <td>2018-12-31 23:55:04</td>\n",
       "      <td>2018-12-31 23:58:24</td>\n",
       "      <td>1350</td>\n",
       "      <td>200.0</td>\n",
       "      <td>141</td>\n",
       "      <td>Clark St &amp; Lincoln Ave</td>\n",
       "      <td>118</td>\n",
       "      <td>Sedgwick St &amp; North Ave</td>\n",
       "      <td>Subscriber</td>\n",
       "      <td>Male</td>\n",
       "      <td>1999.0</td>\n",
       "      <td>12</td>\n",
       "      <td>12</td>\n",
       "    </tr>\n",
       "    <tr>\n",
       "      <th>642685</th>\n",
       "      <td>21742442</td>\n",
       "      <td>2018-12-31 23:59:18</td>\n",
       "      <td>2019-01-01 00:20:43</td>\n",
       "      <td>2006</td>\n",
       "      <td>1,285.0</td>\n",
       "      <td>260</td>\n",
       "      <td>Kedzie Ave &amp; Milwaukee Ave</td>\n",
       "      <td>166</td>\n",
       "      <td>Ashland Ave &amp; Wrightwood Ave</td>\n",
       "      <td>Subscriber</td>\n",
       "      <td>Male</td>\n",
       "      <td>1990.0</td>\n",
       "      <td>12</td>\n",
       "      <td>12</td>\n",
       "    </tr>\n",
       "  </tbody>\n",
       "</table>\n",
       "<p>3603082 rows × 14 columns</p>\n",
       "</div>"
      ],
      "text/plain": [
       "         trip_id          start_time            end_time  bikeid tripduration  \\\n",
       "0       17536702 2018-01-01 00:12:00 2018-01-01 00:17:23    3304        323.0   \n",
       "1       17536703 2018-01-01 00:41:35 2018-01-01 00:47:52    5367        377.0   \n",
       "2       17536704 2018-01-01 00:44:46 2018-01-01 01:33:10    4599      2,904.0   \n",
       "3       17536705 2018-01-01 00:53:10 2018-01-01 01:05:37    2302        747.0   \n",
       "4       17536706 2018-01-01 00:53:37 2018-01-01 00:56:40    3696        183.0   \n",
       "...          ...                 ...                 ...     ...          ...   \n",
       "642681  21742438 2018-12-31 23:45:17 2018-12-31 23:50:05    2931        288.0   \n",
       "642682  21742439 2018-12-31 23:48:48 2018-12-31 23:57:22    4386        514.0   \n",
       "642683  21742440 2018-12-31 23:50:09 2018-12-31 23:57:16    4927        427.0   \n",
       "642684  21742441 2018-12-31 23:55:04 2018-12-31 23:58:24    1350        200.0   \n",
       "642685  21742442 2018-12-31 23:59:18 2019-01-01 00:20:43    2006      1,285.0   \n",
       "\n",
       "        from_station_id               from_station_name  to_station_id  \\\n",
       "0                    69          Damen Ave & Pierce Ave            159   \n",
       "1                   253     Winthrop Ave & Lawrence Ave            325   \n",
       "2                    98      LaSalle St & Washington St            509   \n",
       "3                   125            Rush St & Hubbard St            364   \n",
       "4                   129       Blue Island Ave & 18th St            205   \n",
       "...                 ...                             ...            ...   \n",
       "642681               49         Dearborn St & Monroe St            164   \n",
       "642682              624  Dearborn St & Van Buren St (*)             44   \n",
       "642683               41            Federal St & Polk St             52   \n",
       "642684              141          Clark St & Lincoln Ave            118   \n",
       "642685              260      Kedzie Ave & Milwaukee Ave            166   \n",
       "\n",
       "                       to_station_name    usertype  gender  birthyear  \\\n",
       "0            Claremont Ave & Hirsch St  Subscriber    Male     1988.0   \n",
       "1       Clark St & Winnemac Ave (Temp)  Subscriber    Male     1984.0   \n",
       "2                  Troy St & North Ave  Subscriber    Male     1989.0   \n",
       "3                 Larrabee St & Oak St  Subscriber    Male     1983.0   \n",
       "4                 Paulina St & 18th St  Subscriber    Male     1989.0   \n",
       "...                                ...         ...     ...        ...   \n",
       "642681           Franklin St & Lake St  Subscriber  Female     1983.0   \n",
       "642682          State St & Randolph St  Subscriber  Female     1990.0   \n",
       "642683          Michigan Ave & Lake St  Subscriber  Female     1995.0   \n",
       "642684         Sedgwick St & North Ave  Subscriber    Male     1999.0   \n",
       "642685    Ashland Ave & Wrightwood Ave  Subscriber    Male     1990.0   \n",
       "\n",
       "        Month_start_time  Month  \n",
       "0                      1      1  \n",
       "1                      1      1  \n",
       "2                      1      1  \n",
       "3                      1      1  \n",
       "4                      1      1  \n",
       "...                  ...    ...  \n",
       "642681                12     12  \n",
       "642682                12     12  \n",
       "642683                12     12  \n",
       "642684                12     12  \n",
       "642685                12     12  \n",
       "\n",
       "[3603082 rows x 14 columns]"
      ]
     },
     "execution_count": 41,
     "metadata": {},
     "output_type": "execute_result"
    }
   ],
   "source": [
    "Combine_Result['Month'] = Combine_Result['start_time'].dt.month\n",
    "Combine_Result"
   ]
  },
  {
   "cell_type": "markdown",
   "id": "returning-clone",
   "metadata": {},
   "source": [
    "### 8. List the number of rides by month"
   ]
  },
  {
   "cell_type": "code",
   "execution_count": 66,
   "id": "human-jacksonville",
   "metadata": {},
   "outputs": [
    {
     "name": "stdout",
     "output_type": "stream",
     "text": [
      "Month\n",
      "1     109706\n",
      "2     102950\n",
      "3     174489\n",
      "4     200112\n",
      "5     401150\n",
      "6     458419\n",
      "7     544703\n",
      "8     530755\n",
      "9     438112\n",
      "10    344940\n",
      "11    168774\n",
      "12    128972\n",
      "Name: trip_id, dtype: int64\n"
     ]
    }
   ],
   "source": [
    "rides_per_month = Combine_Result['trip_id'].groupby(Combine_Result['Month']).count()\n",
    "print(rides_per_month)"
   ]
  },
  {
   "cell_type": "markdown",
   "id": "exterior-times",
   "metadata": {},
   "source": [
    "### 9. Chart the number of rides by month"
   ]
  },
  {
   "cell_type": "code",
   "execution_count": 68,
   "id": "polish-communication",
   "metadata": {},
   "outputs": [
    {
     "data": {
      "text/plain": [
       "<AxesSubplot:xlabel='Month'>"
      ]
     },
     "execution_count": 68,
     "metadata": {},
     "output_type": "execute_result"
    },
    {
     "data": {
      "image/png": "[encoded data removed]",
      "text/plain": [
       "<Figure size 640x480 with 1 Axes>"
      ]
     },
     "metadata": {},
     "output_type": "display_data"
    }
   ],
   "source": [
    "rides_per_month.plot()"
   ]
  },
  {
   "cell_type": "markdown",
   "id": "fallen-ozone",
   "metadata": {},
   "source": [
    "### 10.  It's often useful to think about the data.  Why do you think the number of rides fluctuates by month ?"
   ]
  },
  {
   "cell_type": "code",
   "execution_count": null,
   "id": "forbidden-young",
   "metadata": {},
   "outputs": [],
   "source": [
    "There are so many reasons behind fluctuation, like seasonal variation, holidays and special Events, weeks off,\n",
    "promotions, festivals, changes in infrastructure, marketing."
   ]
  },
  {
   "cell_type": "markdown",
   "id": "89cb4561",
   "metadata": {},
   "source": [
    "### 11. Create a function that calculates age.  Use the difference between the current year (can use datetime library for this) and the birthyear column.\n",
    "\n",
    "hint: https://pandas.pydata.org/docs/reference/api/pandas.DataFrame.apply.html"
   ]
  },
  {
   "cell_type": "code",
   "execution_count": 92,
   "id": "12d768f8",
   "metadata": {},
   "outputs": [],
   "source": [
    "from datetime import datetime\n",
    "def calculate_age(birthyear):\n",
    "    current_year = datetime.now().year\n",
    "    age = current_year - birthyear\n",
    "    return age\n"
   ]
  },
  {
   "cell_type": "markdown",
   "id": "0dce9ffa",
   "metadata": {},
   "source": [
    "### 12. Use the %time magic to rerun your calculation for #11.  How long it takes to run it?"
   ]
  },
  {
   "cell_type": "code",
   "execution_count": 85,
   "id": "5aec81b2",
   "metadata": {},
   "outputs": [
    {
     "name": "stdout",
     "output_type": "stream",
     "text": [
      "0         35.0\n",
      "1         39.0\n",
      "2         34.0\n",
      "3         40.0\n",
      "4         34.0\n",
      "          ... \n",
      "642681    40.0\n",
      "642682    33.0\n",
      "642683    28.0\n",
      "642684    24.0\n",
      "642685    33.0\n",
      "Name: birthyear, Length: 3603082, dtype: float64\n",
      "CPU times: user 3.18 s, sys: 208 ms, total: 3.39 s\n",
      "Wall time: 4.57 s\n"
     ]
    }
   ],
   "source": [
    "%%time\n",
    "Age = Combine_Result['birthyear'].apply(calculate_age)\n",
    "print(Age)"
   ]
  },
  {
   "cell_type": "markdown",
   "id": "6d543d55",
   "metadata": {},
   "source": [
    "### 13. What is the maximum age you found in the column you calculated in #11?"
   ]
  },
  {
   "cell_type": "code",
   "execution_count": 90,
   "id": "854b69e4",
   "metadata": {},
   "outputs": [
    {
     "data": {
      "text/plain": [
       "128.0"
      ]
     },
     "execution_count": 90,
     "metadata": {},
     "output_type": "execute_result"
    }
   ],
   "source": [
    "Age.max()"
   ]
  },
  {
   "cell_type": "code",
   "execution_count": 91,
   "id": "9b97f73e",
   "metadata": {},
   "outputs": [
    {
     "data": {
      "text/plain": [
       "1895.0"
      ]
     },
     "execution_count": 91,
     "metadata": {},
     "output_type": "execute_result"
    }
   ],
   "source": [
    "Combine_Result['birthyear'].min()"
   ]
  },
  {
   "cell_type": "code",
   "execution_count": null,
   "id": "6e8adf2b",
   "metadata": {},
   "outputs": [],
   "source": []
  }
 ],
 "metadata": {
  "kernelspec": {
   "display_name": "Python 3 (ipykernel)",
   "language": "python",
   "name": "python3"
  },
  "language_info": {
   "codemirror_mode": {
    "name": "ipython",
    "version": 3
   },
   "file_extension": ".py",
   "mimetype": "text/x-python",
   "name": "python",
   "nbconvert_exporter": "python",
   "pygments_lexer": "ipython3",
   "version": "3.9.13"
  }
 },
 "nbformat": 4,
 "nbformat_minor": 5
}
